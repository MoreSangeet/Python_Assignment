{
 "cells": [
  {
   "cell_type": "markdown",
   "id": "c9712164-efcc-4e4e-b38d-dfd892286e6e",
   "metadata": {},
   "source": [
    "# Assignment 2"
   ]
  },
  {
   "cell_type": "raw",
   "id": "672d6f5b-da58-4b31-adc2-f07c1b0756d9",
   "metadata": {},
   "source": [
    " "
   ]
  },
  {
   "cell_type": "markdown",
   "id": "96b88915-5a15-400f-85e3-06f49aa70e23",
   "metadata": {},
   "source": [
    "## 1. What is a List?"
   ]
  },
  {
   "cell_type": "markdown",
   "id": "aadc7aae-8529-4247-9d69-c5faeae9a4b9",
   "metadata": {},
   "source": [
    "List is ordered data type in python.\n",
    "List is enclosed by square brackets [].\n",
    "List is mutable (changable). we can add, delete, update in list.\n",
    "List items are comma seperated\n",
    "Duplicates items are allowed in list."
   ]
  },
  {
   "cell_type": "markdown",
   "id": "0d7e129e-5bd7-4ee3-adec-3d2c0b514ffe",
   "metadata": {},
   "source": [
    "## 2. What is a Tuple?"
   ]
  },
  {
   "cell_type": "markdown",
   "id": "fded2c3a-0b68-426f-a0d3-158c2084be28",
   "metadata": {},
   "source": [
    "Tuple is ordered data type.\n",
    "Tuple is enclosed by round brackets ().\n",
    "Tuple is immutable.\n",
    "Tuple items are comma seperated.\n",
    "Duplicates items are allowed in list."
   ]
  },
  {
   "cell_type": "markdown",
   "id": "fd244723-8541-4b51-8afe-ae8251a618cb",
   "metadata": {},
   "source": [
    "## 3. What is the difference between List and Tuple?"
   ]
  },
  {
   "cell_type": "code",
   "execution_count": null,
   "id": "48f6650c-02d5-4090-880f-8c620fa5a0d7",
   "metadata": {},
   "outputs": [],
   "source": [
    "1. List is mutable vs Tuple is immutable.\n",
    "2. List is enclosed by square brackets [] vs Tuple is enclosed by round brackets ().\n",
    "3. List is more functional vs Tuple is less functional.\n",
    "4. List is slower than tuple vs Tuple is faster than list.\n",
    "5. List is heavier due to the mutability vs Tuple is light than list."
   ]
  },
  {
   "cell_type": "markdown",
   "id": "e272a87c-dd4b-4e5d-bbe8-f01c5b5a5c96",
   "metadata": {},
   "source": [
    "## 4. Python Program to find the largest element in the list"
   ]
  },
  {
   "cell_type": "code",
   "execution_count": 1,
   "id": "c46ea251-54e1-4de8-88ca-da17e34e5bbc",
   "metadata": {},
   "outputs": [
    {
     "data": {
      "text/plain": [
       "99"
      ]
     },
     "execution_count": 1,
     "metadata": {},
     "output_type": "execute_result"
    }
   ],
   "source": [
    "a = [0,26,45,32,95,62,5,3,88,45,99,10,3]\n",
    "max(a)"
   ]
  },
  {
   "cell_type": "markdown",
   "id": "fdd37f32-a0e4-4799-afb6-2629e71f18a2",
   "metadata": {},
   "source": [
    "## 5. Python program to interchange first and last elements in a list."
   ]
  },
  {
   "cell_type": "code",
   "execution_count": 2,
   "id": "28333950-c2e0-4257-a761-ad2ff1ed6a77",
   "metadata": {},
   "outputs": [
    {
     "data": {
      "text/plain": [
       "[9, 1, 2, 3, 4, 5, 6, 7, 8, 0]"
      ]
     },
     "execution_count": 2,
     "metadata": {},
     "output_type": "execute_result"
    }
   ],
   "source": [
    "a = [0,1,2,3,4,5,6,7,8,9]\n",
    "a[0],a[-1] = a[-1],a[0]\n",
    "a"
   ]
  },
  {
   "cell_type": "markdown",
   "id": "65909bee-c8f9-4c75-968f-5fc57adf27c3",
   "metadata": {},
   "source": [
    "## 6. Python program to swap two elements in a list"
   ]
  },
  {
   "cell_type": "code",
   "execution_count": 3,
   "id": "03eef83c-076e-4e52-a265-7e81f0cc1b16",
   "metadata": {},
   "outputs": [
    {
     "name": "stdout",
     "output_type": "stream",
     "text": [
      "[0, 1, 2, 6, 4, 5, 3, 7, 8, 9]\n"
     ]
    }
   ],
   "source": [
    "list = [0,1,2,3,4,5,6,7,8,9]\n",
    "index1 = 3\n",
    "index2 = 6\n",
    "\n",
    "list[index1],list[index2] = list[index2], list[index1] \n",
    "print(list)"
   ]
  },
  {
   "cell_type": "markdown",
   "id": "3a007b03-5390-4e6e-a830-1d46424b3f60",
   "metadata": {},
   "source": [
    "## 7. Python program to Reverse a List"
   ]
  },
  {
   "cell_type": "code",
   "execution_count": 4,
   "id": "9a0fc1d9-6bcb-4cd4-85f2-af11a9ecb78d",
   "metadata": {},
   "outputs": [
    {
     "data": {
      "text/plain": [
       "[9, 8, 7, 6, 5, 4, 3, 2, 1, 0]"
      ]
     },
     "execution_count": 4,
     "metadata": {},
     "output_type": "execute_result"
    }
   ],
   "source": [
    "list = [0,1,2,3,4,5,6,7,8,9]\n",
    "list.reverse()\n",
    "list"
   ]
  },
  {
   "cell_type": "code",
   "execution_count": 5,
   "id": "d49e0b0f-5e01-4812-89a9-84a0eba0679a",
   "metadata": {},
   "outputs": [
    {
     "data": {
      "text/plain": [
       "[9, 8, 7, 6, 5, 4, 3, 2, 1, 0]"
      ]
     },
     "execution_count": 5,
     "metadata": {},
     "output_type": "execute_result"
    }
   ],
   "source": [
    "list = [0,1,2,3,4,5,6,7,8,9]\n",
    "list[::-1]"
   ]
  },
  {
   "cell_type": "markdown",
   "id": "b1541fc6-6f12-4f41-8681-5d4b31a80b02",
   "metadata": {},
   "source": [
    "## 8. Python program to count occurrences of an element in a list"
   ]
  },
  {
   "cell_type": "code",
   "execution_count": 6,
   "id": "5d75a5fb-23dd-452d-93d5-1166c11d5c2d",
   "metadata": {},
   "outputs": [
    {
     "data": {
      "text/plain": [
       "3"
      ]
     },
     "execution_count": 6,
     "metadata": {},
     "output_type": "execute_result"
    }
   ],
   "source": [
    "list = [0,2,4,5,6,6,5,3,1,5,9,4,6,3]\n",
    "list.count(5)"
   ]
  },
  {
   "cell_type": "code",
   "execution_count": 7,
   "id": "b15cb21d-c7bd-47f5-ab49-3bff4bad8283",
   "metadata": {},
   "outputs": [
    {
     "name": "stdout",
     "output_type": "stream",
     "text": [
      "count of 5 is: 3\n"
     ]
    }
   ],
   "source": [
    "list = [0,2,4,5,6,6,5,3,1,5,9,4,6,3]\n",
    "a = 5\n",
    "list.count(a)\n",
    "print('count of 5 is:', list.count(a))"
   ]
  },
  {
   "cell_type": "code",
   "execution_count": 8,
   "id": "e2c8f561-bcac-4fbe-841b-ec024eba3422",
   "metadata": {},
   "outputs": [
    {
     "name": "stdout",
     "output_type": "stream",
     "text": [
      "Number:0=1\n",
      "Number:2=1\n",
      "Number:4=2\n",
      "Number:5=3\n",
      "Number:6=3\n",
      "Number:6=3\n",
      "Number:5=3\n",
      "Number:3=2\n",
      "Number:1=1\n",
      "Number:5=3\n",
      "Number:9=1\n",
      "Number:4=2\n",
      "Number:6=3\n",
      "Number:3=2\n"
     ]
    }
   ],
   "source": [
    "list = [0,2,4,5,6,6,5,3,1,5,9,4,6,3]\n",
    "for i in list[0:len(list)]:\n",
    "    x = list.count(i)\n",
    "    print(f\"Number:{i}={x}\")"
   ]
  },
  {
   "cell_type": "markdown",
   "id": "1d6daeaf-d68d-4685-9b4b-a2157b7e3d94",
   "metadata": {},
   "source": [
    "## 9. Python program to find the sum of elements in a list"
   ]
  },
  {
   "cell_type": "code",
   "execution_count": 12,
   "id": "2e2f7f6e-9ac9-41b2-835b-3e04da1bf936",
   "metadata": {},
   "outputs": [
    {
     "data": {
      "text/plain": [
       "59"
      ]
     },
     "execution_count": 12,
     "metadata": {},
     "output_type": "execute_result"
    }
   ],
   "source": [
    "list = [0,2,4,5,6,6,5,3,1,5,9,4,6,3]\n",
    "x = sum(list)\n",
    "x"
   ]
  },
  {
   "cell_type": "code",
   "execution_count": 13,
   "id": "30f7eca1-fcc8-48c3-8fff-81184a623f49",
   "metadata": {},
   "outputs": [
    {
     "name": "stdout",
     "output_type": "stream",
     "text": [
      "Sum of list [0, 2, 4, 5, 6, 6, 5, 3, 1, 5, 9, 4, 6, 3] is 59\n"
     ]
    }
   ],
   "source": [
    "list = [0,2,4,5,6,6,5,3,1,5,9,4,6,3]\n",
    "sum=0\n",
    "for i in list[0:len(list)]:\n",
    "    sum+=i\n",
    "print(f\"Sum of list {list} is {sum}\")"
   ]
  },
  {
   "cell_type": "markdown",
   "id": "0eb2de03-a1ca-4399-b9a1-512519728958",
   "metadata": {},
   "source": [
    "## 10. Python program to Multiply all numbers in the list"
   ]
  },
  {
   "cell_type": "code",
   "execution_count": 14,
   "id": "cd49c515-972c-46b8-8190-495c31f51b35",
   "metadata": {},
   "outputs": [
    {
     "name": "stdout",
     "output_type": "stream",
     "text": [
      "0\n"
     ]
    }
   ],
   "source": [
    "numbers = [0,3,5,6,8,9,1,2]\n",
    "mult = 1\n",
    "for i in numbers:\n",
    "    mult *= i\n",
    "print(mult)"
   ]
  },
  {
   "cell_type": "code",
   "execution_count": 15,
   "id": "8c78ad4a-d0aa-4e98-80e8-54c9758114dc",
   "metadata": {},
   "outputs": [
    {
     "name": "stdout",
     "output_type": "stream",
     "text": [
      "12960\n"
     ]
    }
   ],
   "source": [
    "numbers = [3,5,6,8,9,1,2]\n",
    "mult = 1\n",
    "for i in numbers:\n",
    "    mult *= i\n",
    "print(mult)"
   ]
  },
  {
   "cell_type": "markdown",
   "id": "52d2af02-9ba4-49b1-9e81-ef1350c0eab2",
   "metadata": {},
   "source": [
    "## 11. What are the ways to find the length of a list"
   ]
  },
  {
   "cell_type": "code",
   "execution_count": 16,
   "id": "3c8725cc-06c3-4b15-8f39-3c270468605a",
   "metadata": {},
   "outputs": [
    {
     "data": {
      "text/plain": [
       "12"
      ]
     },
     "execution_count": 16,
     "metadata": {},
     "output_type": "execute_result"
    }
   ],
   "source": [
    "list = [0,2,3,5,6,4,8,9,9,1,3,2]\n",
    "len(list)"
   ]
  },
  {
   "cell_type": "code",
   "execution_count": 17,
   "id": "1fa53da3-a595-4e71-8b61-77bfbe56b472",
   "metadata": {},
   "outputs": [
    {
     "name": "stdout",
     "output_type": "stream",
     "text": [
      "Length of the list is : 12\n"
     ]
    }
   ],
   "source": [
    "list = [0,2,3,5,6,4,8,9,9,1,3,2]\n",
    "len = 0\n",
    "for i in list:\n",
    "    len += 1\n",
    "print(\"Length of the list is :\", len)    "
   ]
  },
  {
   "cell_type": "markdown",
   "id": "84c5976d-234d-4c8c-8c30-6d5c933c7820",
   "metadata": {},
   "source": [
    "## 12. Python program to find the smallest and largest number in a list (Without min-max function)"
   ]
  },
  {
   "cell_type": "code",
   "execution_count": 30,
   "id": "8c00fe1e-e2b8-46b1-b19c-913ebe817241",
   "metadata": {},
   "outputs": [
    {
     "name": "stdout",
     "output_type": "stream",
     "text": [
      "[0, 1, 2, 2, 3, 3, 4, 5, 6, 8, 9, 9]\n",
      "Smallest number is : 0\n",
      "Largest number is : 9\n"
     ]
    }
   ],
   "source": [
    "l1 = [0,2,3,5,6,4,8,9,9,1,3,2]\n",
    "l1.sort()\n",
    "print(l1)\n",
    "\n",
    "print(\"Smallest number is :\", l1[0])\n",
    "print(\"Largest number is :\", l1[-1])"
   ]
  },
  {
   "cell_type": "markdown",
   "id": "1b52334f-3b09-4fb9-9211-6331ae9889dc",
   "metadata": {},
   "source": [
    "## 13. Python Program to find the area of a circle"
   ]
  },
  {
   "cell_type": "code",
   "execution_count": 31,
   "id": "a6a2fc5a-787e-4c29-880d-7eeeda1beafc",
   "metadata": {},
   "outputs": [
    {
     "name": "stdin",
     "output_type": "stream",
     "text": [
      "Enter the Radius of a Circle: 2.52\n"
     ]
    },
    {
     "name": "stdout",
     "output_type": "stream",
     "text": [
      "19.940256\n"
     ]
    }
   ],
   "source": [
    "x = float(input(\"Enter the Radius of a Circle:\"))\n",
    "area = 3.14*(x**2)\n",
    "print(area)"
   ]
  },
  {
   "cell_type": "markdown",
   "id": "2af4a4ad-6c66-4f78-83f8-1164689b7076",
   "metadata": {},
   "source": [
    "## 14. Take inputs from the user to make a list. Again take one input from the user and delete that element from a list."
   ]
  },
  {
   "cell_type": "code",
   "execution_count": null,
   "id": "95830617-cf4e-4645-84c8-b3b957f47dea",
   "metadata": {},
   "outputs": [],
   "source": []
  },
  {
   "cell_type": "code",
   "execution_count": null,
   "id": "7460111d-217f-44a3-87d8-6e02facffa64",
   "metadata": {},
   "outputs": [],
   "source": []
  },
  {
   "cell_type": "markdown",
   "id": "6502ef15-2f6b-4569-82ab-ee7eacd914c7",
   "metadata": {},
   "source": [
    "## 15. You are given a list of integer elements. Make a new list that will store a square of elements of the previous list. (With and without list comprehension)\n",
    "i. Input_list = [2,5,6,12]\n",
    "ii. Output_list = [4,25,36,144]"
   ]
  },
  {
   "cell_type": "code",
   "execution_count": 42,
   "id": "90e47012-a793-4cb3-9c5f-4f5792c192c4",
   "metadata": {},
   "outputs": [
    {
     "name": "stdout",
     "output_type": "stream",
     "text": [
      "[4, 25, 36, 144]\n"
     ]
    }
   ],
   "source": [
    "x = [2,5,6,12]\n",
    "z = []\n",
    "\n",
    "for i in x:\n",
    "    a = i*i\n",
    "    z.append(a)\n",
    "print(z)    "
   ]
  },
  {
   "cell_type": "markdown",
   "id": "93682d74-37ed-4fd2-9be5-6faccf15829f",
   "metadata": {},
   "source": [
    "## 16. WAP to create two lists, one containing all even numbers and the other containing all odd numbers between 0 to 151"
   ]
  },
  {
   "cell_type": "code",
   "execution_count": 3,
   "id": "afe950ba-190d-4d00-8f4f-d770b225830e",
   "metadata": {},
   "outputs": [
    {
     "name": "stdout",
     "output_type": "stream",
     "text": [
      "List of odd numbers is :[1, 3, 5, 7, 9, 11, 13, 15, 17, 19, 21, 23, 25, 27, 29, 31, 33, 35, 37, 39, 41, 43, 45, 47, 49, 51, 53, 55, 57, 59, 61, 63, 65, 67, 69, 71, 73, 75, 77, 79, 81, 83, 85, 87, 89, 91, 93, 95, 97, 99, 101, 103, 105, 107, 109, 111, 113, 115, 117, 119, 121, 123, 125, 127, 129, 131, 133, 135, 137, 139, 141, 143, 145, 147, 149, 151]\n",
      "List of even numbers is :[2, 4, 6, 8, 10, 12, 14, 16, 18, 20, 22, 24, 26, 28, 30, 32, 34, 36, 38, 40, 42, 44, 46, 48, 50, 52, 54, 56, 58, 60, 62, 64, 66, 68, 70, 72, 74, 76, 78, 80, 82, 84, 86, 88, 90, 92, 94, 96, 98, 100, 102, 104, 106, 108, 110, 112, 114, 116, 118, 120, 122, 124, 126, 128, 130, 132, 134, 136, 138, 140, 142, 144, 146, 148, 150]\n"
     ]
    }
   ],
   "source": [
    "odd_numbers = []\n",
    "even_numbers = []\n",
    "for i in range(1,152):\n",
    "    if i % 2 != 0:\n",
    "        odd_numbers.append(i)\n",
    "    else:\n",
    "        even_numbers.append(i)\n",
    "\n",
    "print(f'List of odd numbers is :{odd_numbers}')\n",
    "print(f'List of even numbers is :{even_numbers}')"
   ]
  },
  {
   "cell_type": "markdown",
   "id": "206ae295-a125-412e-ac04-5fde5ca494f2",
   "metadata": {},
   "source": [
    "## 17. Python program to Count Even and Odd numbers in a List"
   ]
  },
  {
   "cell_type": "code",
   "execution_count": 17,
   "id": "f6cfe076-0bad-4fa1-afc9-1d724443a7c5",
   "metadata": {},
   "outputs": [
    {
     "name": "stdout",
     "output_type": "stream",
     "text": [
      "Total even number in list is : 6\n",
      "Total odd number is list is : 4\n"
     ]
    }
   ],
   "source": [
    "l1 = [2,6,3,1,9,9,8,4,2,10]\n",
    "even_count = 0\n",
    "odd_count = 0\n",
    "for i in l1:\n",
    "    if i%2!=0:\n",
    "        odd_count+=1\n",
    "    else:\n",
    "        even_count+=1\n",
    "print(\"Total even number in list is :\",even_count)\n",
    "print(\"Total odd number is list is :\",odd_count)"
   ]
  },
  {
   "cell_type": "markdown",
   "id": "00b06ee9-ffe2-4637-a966-875781bec695",
   "metadata": {},
   "source": [
    "## 18. WAP to make new lists, containing only numbers which are divisible by 4, 6, 8, 10, 3, 5, 7, and 9 in separate lists for range(0,151)"
   ]
  },
  {
   "cell_type": "code",
   "execution_count": 18,
   "id": "a56bbd20-3003-44f2-98db-ceb11af099ba",
   "metadata": {},
   "outputs": [
    {
     "name": "stdout",
     "output_type": "stream",
     "text": [
      "Numbers divisible by 3 : [0, 3, 6, 9, 12, 15, 18, 21, 24, 27, 30, 33, 36, 39, 42, 45, 48, 51, 54, 57, 60, 63, 66, 69, 72, 75, 78, 81, 84, 87, 90, 93, 96, 99, 102, 105, 108, 111, 114, 117, 120, 123, 126, 129, 132, 135, 138, 141, 144, 147, 150]\n",
      "Numbers divisible by 4 : [0, 4, 8, 12, 16, 20, 24, 28, 32, 36, 40, 44, 48, 52, 56, 60, 64, 68, 72, 76, 80, 84, 88, 92, 96, 100, 104, 108, 112, 116, 120, 124, 128, 132, 136, 140, 144, 148]\n",
      "Numbers divisible by 5 : [0, 5, 10, 15, 20, 25, 30, 35, 40, 45, 50, 55, 60, 65, 70, 75, 80, 85, 90, 95, 100, 105, 110, 115, 120, 125, 130, 135, 140, 145, 150]\n",
      "Numbers divisible by 6 : [0, 6, 12, 18, 24, 30, 36, 42, 48, 54, 60, 66, 72, 78, 84, 90, 96, 102, 108, 114, 120, 126, 132, 138, 144, 150]\n",
      "Numbers divisible by 7 : [0, 7, 14, 21, 28, 35, 42, 49, 56, 63, 70, 77, 84, 91, 98, 105, 112, 119, 126, 133, 140, 147]\n",
      "Numbers divisible by 8 : [0, 8, 16, 24, 32, 40, 48, 56, 64, 72, 80, 88, 96, 104, 112, 120, 128, 136, 144]\n",
      "Numbers divisible by 9 : [0, 9, 18, 27, 36, 45, 54, 63, 72, 81, 90, 99, 108, 117, 126, 135, 144]\n",
      "Numbers divisible by 10 : [0, 10, 20, 30, 40, 50, 60, 70, 80, 90, 100, 110, 120, 130, 140, 150]\n"
     ]
    }
   ],
   "source": [
    "divisible_by_4 = []\n",
    "divisible_by_6 = []\n",
    "divisible_by_8 = []\n",
    "divisible_by_10 = []\n",
    "divisible_by_3 = []\n",
    "divisible_by_5 = []\n",
    "divisible_by_7 = []\n",
    "divisible_by_9 = []\n",
    "\n",
    "for i in range(0,151):\n",
    "    if i%4 == 0:\n",
    "        divisible_by_4.append(i)\n",
    "    if i%6 == 0:\n",
    "        divisible_by_6.append(i)\n",
    "    if i%8 == 0:\n",
    "        divisible_by_8.append(i)\n",
    "    if i%10 == 0:\n",
    "        divisible_by_10.append(i)\n",
    "    if i%3 == 0:\n",
    "        divisible_by_3.append(i)\n",
    "    if i%5 == 0:\n",
    "        divisible_by_5.append(i)\n",
    "    if i%7 == 0:\n",
    "        divisible_by_7.append(i)\n",
    "    if i%9 == 0:\n",
    "        divisible_by_9.append(i)\n",
    "\n",
    "print(\"Numbers divisible by 3 :\", divisible_by_3)\n",
    "print(\"Numbers divisible by 4 :\", divisible_by_4)\n",
    "print(\"Numbers divisible by 5 :\", divisible_by_5)\n",
    "print(\"Numbers divisible by 6 :\", divisible_by_6)\n",
    "print(\"Numbers divisible by 7 :\", divisible_by_7)\n",
    "print(\"Numbers divisible by 8 :\", divisible_by_8)\n",
    "print(\"Numbers divisible by 9 :\", divisible_by_9)\n",
    "print(\"Numbers divisible by 10 :\", divisible_by_10)"
   ]
  },
  {
   "cell_type": "markdown",
   "id": "0cb2c925-3832-4021-9656-8c3dffae6e85",
   "metadata": {},
   "source": [
    "## 19. Given a list containing elements of different types (integers, strings, and floats), create three separate lists to store integers, strings, and floats respectively."
   ]
  },
  {
   "cell_type": "code",
   "execution_count": 20,
   "id": "8c9e7055-58ca-4b48-b9c1-87e2000720b6",
   "metadata": {},
   "outputs": [
    {
     "name": "stdout",
     "output_type": "stream",
     "text": [
      "Integers :[0, 1, 2, 6, 5]\n",
      "Floats :[3.14, 8.0, 9.99, 100.0]\n",
      "Strings :[0, 1, 2, 6, 5, 'a', 'Python', 'data']\n"
     ]
    }
   ],
   "source": [
    "l1 = [0,1,2,6,5,3.14,8.00,9.99,'a',\"Python\",100.00,'data']\n",
    "Integer = []\n",
    "Float = []\n",
    "String = []\n",
    "\n",
    "for i in l1:\n",
    "    if type(i)==int:\n",
    "        Integer.append(i)\n",
    "    if type(i)==float:\n",
    "        Float.append(i)\n",
    "    else:\n",
    "        String.append(i)\n",
    "\n",
    "print(f'Integers :{Integer}')\n",
    "print(f\"Floats :{Float}\")\n",
    "print(f'Strings :{String}')"
   ]
  },
  {
   "cell_type": "markdown",
   "id": "7c8679c4-75ed-43c5-b29b-c2ebdbf5b3fe",
   "metadata": {},
   "source": [
    "## 20. What’s The Difference Between The Python append() and extend() Methods?"
   ]
  },
  {
   "cell_type": "code",
   "execution_count": null,
   "id": "2a2c4dee-5cf1-41fb-8879-fb5557f7f80c",
   "metadata": {},
   "outputs": [],
   "source": [
    "append():\n",
    "         This method is used for add single element in the list.\n",
    "         Add element at the last index.\n",
    "extend():\n",
    "         This method is used to add multiple elements in the list (eg. multiple items,list,tuple)\n",
    "         Add elements at the last index."
   ]
  },
  {
   "cell_type": "markdown",
   "id": "cfc06d10-40c1-4dcb-aa10-f9067af0d68d",
   "metadata": {},
   "source": [
    "## 21. Write a Python program to append a list to the second list"
   ]
  },
  {
   "cell_type": "code",
   "execution_count": 21,
   "id": "d662e099-4eb6-436a-924c-606f187165ff",
   "metadata": {},
   "outputs": [
    {
     "data": {
      "text/plain": [
       "[0, 1, 2, 6, 8, 9, ['Python', 10, 99, 'Data']]"
      ]
     },
     "execution_count": 21,
     "metadata": {},
     "output_type": "execute_result"
    }
   ],
   "source": [
    "l1 = [0,1,2,6,8,9]\n",
    "l1.append([\"Python\",10,99,'Data'])\n",
    "l1"
   ]
  },
  {
   "cell_type": "markdown",
   "id": "f3cc5a3c-062f-45f8-8ca0-bef1b6dd9b34",
   "metadata": {},
   "source": [
    "## 22. Write a Python program to find the third-largest number in a list"
   ]
  },
  {
   "cell_type": "code",
   "execution_count": 23,
   "id": "94032e63-cc76-4fcb-bc1e-fb30eacbbbed",
   "metadata": {},
   "outputs": [
    {
     "name": "stdout",
     "output_type": "stream",
     "text": [
      "[0, 3, 5, 6, 9, 12, 40, 45, 53, 61, 63, 66]\n",
      "3rd largest number in list is :61\n"
     ]
    }
   ],
   "source": [
    "x = [0,5,3,6,12,45,66,53,61,9,63,40]\n",
    "x.sort()\n",
    "print(x)\n",
    "print(f'3rd largest number in list is :{x[-3]}')"
   ]
  },
  {
   "cell_type": "markdown",
   "id": "80bc665f-daae-4dca-a067-e553b6dfc44c",
   "metadata": {},
   "source": [
    "## 23. Write a Python program to check whether a list contains a sublist"
   ]
  },
  {
   "cell_type": "code",
   "execution_count": 28,
   "id": "0a498104-b4da-48ad-b357-1bc61e1e75a1",
   "metadata": {},
   "outputs": [
    {
     "name": "stdout",
     "output_type": "stream",
     "text": [
      "list not contains sublist\n",
      "list not contains sublist\n",
      "list not contains sublist\n",
      "list not contains sublist\n",
      "list not contains sublist\n",
      "list not contains sublist\n",
      "list contains sublist\n"
     ]
    }
   ],
   "source": [
    "l1 = [0,2,55,(0,1,99),5,00,[0,1,2],]\n",
    "for i in l1:\n",
    "    if type(i) == list:\n",
    "        print('list contains sublist')\n",
    "        break\n",
    "    else:\n",
    "        print('list not contains sublist')"
   ]
  },
  {
   "cell_type": "code",
   "execution_count": 29,
   "id": "b400790e-fa7b-4742-815a-5a92ed6948b3",
   "metadata": {},
   "outputs": [
    {
     "name": "stdout",
     "output_type": "stream",
     "text": [
      "list contains sublist\n"
     ]
    }
   ],
   "source": [
    "l1 = [0,2,55,(0,1,99),5,00,[0,1,2],]\n",
    "for i in l1:\n",
    "    if type(i) == list:\n",
    "        print('list contains sublist')\n",
    "        break\n",
    "else:\n",
    "    print('list not contains sublist')"
   ]
  },
  {
   "cell_type": "markdown",
   "id": "c1254328-08d3-4656-ae08-79df38303d67",
   "metadata": {},
   "source": [
    "## 24. Write a Python program to generate all sublists of a list"
   ]
  },
  {
   "cell_type": "code",
   "execution_count": null,
   "id": "fe39788d-5d3e-4f22-8560-84adb29839ac",
   "metadata": {},
   "outputs": [],
   "source": []
  },
  {
   "cell_type": "markdown",
   "id": "83ddf5a5-1c20-45da-9498-df827edae073",
   "metadata": {},
   "source": [
    "## 25. Write a Python program to find common items from two lists"
   ]
  },
  {
   "cell_type": "code",
   "execution_count": 30,
   "id": "24d8f4ab-5397-42fa-b952-afbd56dc8584",
   "metadata": {},
   "outputs": [
    {
     "name": "stdout",
     "output_type": "stream",
     "text": [
      "{4, 5}\n"
     ]
    }
   ],
   "source": [
    "l1 = [0,1,2,3,4,5]\n",
    "l2 = [4,5,6,7,8,9]\n",
    "x = set(l1).intersection(set(l2))\n",
    "print(x)"
   ]
  },
  {
   "cell_type": "markdown",
   "id": "e4f3fdfc-8482-46c3-b248-ee893b7e40b8",
   "metadata": {},
   "source": [
    "## 26. How to flatten a list in Python?"
   ]
  },
  {
   "cell_type": "code",
   "execution_count": 35,
   "id": "41fcc777-83c5-430d-802d-a436de685c4d",
   "metadata": {},
   "outputs": [
    {
     "name": "stdout",
     "output_type": "stream",
     "text": [
      "[1, 23, 4, 1, 2, 1, 2, 3, 4]\n"
     ]
    }
   ],
   "source": [
    "a=[[1,23,4],[1,2],[1,2,3,4]]\n",
    "f=[]\n",
    "for i in a:\n",
    "    for j in i:\n",
    "        f.append(j)\n",
    "print(f)\n"
   ]
  },
  {
   "cell_type": "markdown",
   "id": "f982ecd9-91a8-4582-98e6-fd5fa9724f7a",
   "metadata": {},
   "source": [
    "## 27. How to sort a list in ascending and descending order without using the sort function?"
   ]
  },
  {
   "cell_type": "code",
   "execution_count": 38,
   "id": "65258eac-406e-4e77-9218-6d46180be4a5",
   "metadata": {},
   "outputs": [
    {
     "name": "stdout",
     "output_type": "stream",
     "text": [
      "[9, 8, 8, 6, 5, 5, 4, 4, 3, 2, 1, 0]\n"
     ]
    }
   ],
   "source": [
    "a=[0,5,4,3,6,2,5,4,1,8,9,8]\n",
    "n=len(a)\n",
    "for i in range(n):\n",
    "    max_=i\n",
    "    for j in range(i+1,n):\n",
    "        if a[j]>a[max_]:\n",
    "            max_=j\n",
    " \n",
    "    a[i],a[max_]=a[max_],a[i] \n",
    "print(a)"
   ]
  },
  {
   "cell_type": "code",
   "execution_count": 39,
   "id": "025a59d5-8e94-4ed4-9ea6-e6774e4a810c",
   "metadata": {},
   "outputs": [
    {
     "name": "stdout",
     "output_type": "stream",
     "text": [
      "[0, 1, 2, 3, 4, 4, 5, 5, 6, 8, 8, 9]\n"
     ]
    }
   ],
   "source": [
    "a=[0,5,4,3,6,2,5,4,1,8,9,8]\n",
    "n=len(a)\n",
    "for i in range(n):\n",
    "    max_=i\n",
    "    for j in range(i+1,n):\n",
    "        if a[j]<a[max_]:\n",
    "            max_=j\n",
    " \n",
    "    a[i],a[max_]=a[max_],a[i] \n",
    "print(a)"
   ]
  },
  {
   "cell_type": "markdown",
   "id": "cee9d14b-13c3-4168-add4-2d55bec7bebb",
   "metadata": {},
   "source": [
    "## 28. How to sort a tuple?"
   ]
  },
  {
   "cell_type": "code",
   "execution_count": 43,
   "id": "44a29d5a-51b9-4882-a12b-0193fcee167d",
   "metadata": {},
   "outputs": [
    {
     "name": "stdout",
     "output_type": "stream",
     "text": [
      "[0, 2, 3, 4, 5, 6, 7, 8, 9, 9]\n",
      "(0, 2, 3, 4, 5, 6, 7, 8, 9, 9)\n"
     ]
    }
   ],
   "source": [
    "1. First we need to convert tuple in list then sort\n",
    "    x = (5,8,6,3,4,9,9,0,2,7)\n",
    "    y = list(x)\n",
    "    z = y.sort()\n",
    "    print(y)\n",
    "    t = tuple(y)\n",
    "    print(t)\n",
    "    "
   ]
  },
  {
   "cell_type": "code",
   "execution_count": 44,
   "id": "da2cead1-607d-4f3f-b283-3001271ce942",
   "metadata": {},
   "outputs": [
    {
     "data": {
      "text/plain": [
       "[0, 2, 3, 4, 5, 6, 7, 8, 9, 9]"
      ]
     },
     "execution_count": 44,
     "metadata": {},
     "output_type": "execute_result"
    }
   ],
   "source": [
    "2. Using inbuilt function #sorted()\n",
    "    x = (5,8,6,3,4,9,9,0,2,7)\n",
    "    z = sorted(x)\n",
    "    z"
   ]
  },
  {
   "cell_type": "markdown",
   "id": "99e2f101-078a-4dc5-ab07-028110ef93ef",
   "metadata": {},
   "source": [
    "## 29. Write a Python program to convert a list of multiple integers into a single integer [11, 33, 50] >>> 113350"
   ]
  },
  {
   "cell_type": "code",
   "execution_count": 45,
   "id": "7b84a679-0ebc-49bf-85c8-36f9beee1a6a",
   "metadata": {},
   "outputs": [
    {
     "name": "stdout",
     "output_type": "stream",
     "text": [
      "113350"
     ]
    }
   ],
   "source": [
    "x = [11, 33, 50]\n",
    "for i in x:\n",
    "    print(i,end='')\n"
   ]
  },
  {
   "cell_type": "markdown",
   "id": "9b630242-9cf4-4501-9995-1121f6303086",
   "metadata": {},
   "source": [
    "## 30. What is the difference between del and clear?"
   ]
  },
  {
   "cell_type": "code",
   "execution_count": null,
   "id": "80ca6858-76dd-4925-92ae-d44a9c2c02bc",
   "metadata": {},
   "outputs": [],
   "source": [
    "del is used for delete any specific item from list.\n",
    "clear is used to remove all items from the list."
   ]
  },
  {
   "cell_type": "code",
   "execution_count": 46,
   "id": "4b63bb1f-61ff-4527-afba-93dd97a5d5b0",
   "metadata": {},
   "outputs": [
    {
     "name": "stdout",
     "output_type": "stream",
     "text": [
      "[1, 2, 3, 5]\n"
     ]
    }
   ],
   "source": [
    "x = [1,2,3,4,5]\n",
    "del x[3]\n",
    "print(x)"
   ]
  },
  {
   "cell_type": "code",
   "execution_count": 48,
   "id": "5525d515-0e92-4070-8d43-33443412e778",
   "metadata": {},
   "outputs": [
    {
     "name": "stdout",
     "output_type": "stream",
     "text": [
      "[]\n"
     ]
    }
   ],
   "source": [
    "x = [1,2,3,4,5]\n",
    "x.clear()\n",
    "print(x)"
   ]
  },
  {
   "cell_type": "markdown",
   "id": "167802a7-5904-4843-b1cf-d0180f94b861",
   "metadata": {},
   "source": [
    "## 31. What is the difference between remove and pop?"
   ]
  },
  {
   "cell_type": "code",
   "execution_count": 49,
   "id": "c0d78325-7fe3-4fd1-bcc2-a5f976510653",
   "metadata": {},
   "outputs": [
    {
     "data": {
      "text/plain": [
       "[10, 20, 40, 50]"
      ]
     },
     "execution_count": 49,
     "metadata": {},
     "output_type": "execute_result"
    }
   ],
   "source": [
    "in remove function we remove the item by giving the direct value of that item.\n",
    "\n",
    "x = [10,20,30,40,50]\n",
    "x.remove(30)\n",
    "x"
   ]
  },
  {
   "cell_type": "code",
   "execution_count": 50,
   "id": "49f7f72e-b046-4604-bb51-67f95e5b643e",
   "metadata": {},
   "outputs": [
    {
     "data": {
      "text/plain": [
       "[10, 20, 40, 50]"
      ]
     },
     "execution_count": 50,
     "metadata": {},
     "output_type": "execute_result"
    }
   ],
   "source": [
    "in pop function we remove the item by giving its index number.\n",
    "\n",
    "x = [10,20,30,40,50]\n",
    "x.pop(2)\n",
    "x"
   ]
  },
  {
   "cell_type": "markdown",
   "id": "a625f83a-cc95-4f39-86c0-cd7c7279dc1e",
   "metadata": {},
   "source": [
    "## 32. What is the difference between indexing and Slicing?"
   ]
  },
  {
   "cell_type": "code",
   "execution_count": 51,
   "id": "168e332d-cc59-4cf8-976b-ffe603c6a1ad",
   "metadata": {},
   "outputs": [
    {
     "data": {
      "text/plain": [
       "30"
      ]
     },
     "execution_count": 51,
     "metadata": {},
     "output_type": "execute_result"
    }
   ],
   "source": [
    "indexing gives the value of that particular index numbers from the list.\n",
    "In below example we want value at the 2nd index nuber then it will return the value at that particular index number.\n",
    "\n",
    "x = [10,20,30,40,50]\n",
    "x[2]"
   ]
  },
  {
   "cell_type": "code",
   "execution_count": 52,
   "id": "4428d984-2240-4044-94bc-eee11591915b",
   "metadata": {},
   "outputs": [
    {
     "data": {
      "text/plain": [
       "[10, 20, 30]"
      ]
     },
     "execution_count": 52,
     "metadata": {},
     "output_type": "execute_result"
    }
   ],
   "source": [
    "slicing function is used to access any sequence or any particular part from the list.\n",
    "In below example we want the starting 3 items from the list then we use slicing method where [0:3] where 0 indicates the 1st value and 2 indicates the last value.\n",
    "\n",
    "x = [10,20,30,40,50]\n",
    "x[0:3]"
   ]
  },
  {
   "cell_type": "markdown",
   "id": "c5c2b321-efe0-4be8-b1f7-78163f6d40a6",
   "metadata": {},
   "source": [
    "## 33. What is the difference between sort and sorted?"
   ]
  },
  {
   "cell_type": "code",
   "execution_count": null,
   "id": "0887de92-e365-404f-8182-2c2a9d23f4c2",
   "metadata": {},
   "outputs": [],
   "source": [
    "sort method is used for sort list in that place.\n",
    "                   v/s\n",
    "sorted method is built in function used for the sort the list."
   ]
  },
  {
   "cell_type": "code",
   "execution_count": 54,
   "id": "0921efb0-92f3-4057-8f2f-b37347908d18",
   "metadata": {},
   "outputs": [
    {
     "data": {
      "text/plain": [
       "[0, 11, 12, 20, 23, 27, 30, 36, 51, 99]"
      ]
     },
     "execution_count": 54,
     "metadata": {},
     "output_type": "execute_result"
    }
   ],
   "source": [
    "x = [11,20,51,30,23,27,99,0,12,36]\n",
    "x.sort()\n",
    "x"
   ]
  },
  {
   "cell_type": "code",
   "execution_count": 57,
   "id": "ff577029-4a48-4b78-9e84-9dd0c4ae64db",
   "metadata": {},
   "outputs": [
    {
     "name": "stdout",
     "output_type": "stream",
     "text": [
      "[11, 20, 51, 30, 23, 27, 99, 0, 12, 36]\n",
      "[0, 11, 12, 20, 23, 27, 30, 36, 51, 99]\n"
     ]
    }
   ],
   "source": [
    "x = [11,20,51,30,23,27,99,0,12,36]\n",
    "y = sorted(x)\n",
    "print(x)\n",
    "print(y)"
   ]
  },
  {
   "cell_type": "markdown",
   "id": "a059dff9-5093-4cb4-bd75-4711275a000b",
   "metadata": {},
   "source": [
    "## 34. What is the difference between reverse and reversed?"
   ]
  },
  {
   "cell_type": "code",
   "execution_count": 58,
   "id": "73007496-8f6a-45a9-be4a-6b7284e044b2",
   "metadata": {},
   "outputs": [
    {
     "data": {
      "text/plain": [
       "[50, 40, 30, 20, 10]"
      ]
     },
     "execution_count": 58,
     "metadata": {},
     "output_type": "execute_result"
    }
   ],
   "source": [
    "reverse is used to reverse the all elements from the list.\n",
    "\n",
    "x = [10,20,30,40,50]\n",
    "x.reverse()\n",
    "x"
   ]
  },
  {
   "cell_type": "code",
   "execution_count": 59,
   "id": "00d20298-2eed-4dbe-8ec1-2f377445f0ad",
   "metadata": {},
   "outputs": [
    {
     "name": "stdout",
     "output_type": "stream",
     "text": [
      "[10, 20, 30, 40, 50]\n",
      "[50, 40, 30, 20, 10]\n"
     ]
    }
   ],
   "source": [
    "reversed alse reverse the all elements from the list in reverse manner but it need to assign new variable to print it.\n",
    "\n",
    "x = [10,20,30,40,50]\n",
    "y = list(reversed(x))\n",
    "print(x)\n",
    "print(y)"
   ]
  },
  {
   "cell_type": "markdown",
   "id": "db042880-5387-4a14-acac-3a4fc7bba641",
   "metadata": {},
   "source": [
    "## 35. What is the difference between copy and deep copy?"
   ]
  },
  {
   "cell_type": "code",
   "execution_count": null,
   "id": "82e6b200-56ed-49ee-b68c-0a8696ca0032",
   "metadata": {},
   "outputs": [],
   "source": []
  },
  {
   "cell_type": "markdown",
   "id": "c06bce63-1cb5-485f-908c-6b1020b1c5d8",
   "metadata": {},
   "source": [
    "## 36. How to check whether the list is empty or not?"
   ]
  },
  {
   "cell_type": "code",
   "execution_count": 67,
   "id": "98717fe5-b099-43b1-a057-76a7e18e7b4c",
   "metadata": {},
   "outputs": [
    {
     "name": "stdout",
     "output_type": "stream",
     "text": [
      " List is [1, 2, 3, 4, 5] not empty\n"
     ]
    }
   ],
   "source": [
    "x = [1,2,3,4,5]\n",
    "if len(x) == 0:\n",
    "    print(f\"List is {x} is empty\")\n",
    "else:\n",
    "    print(f\" List is {x} not empty\")"
   ]
  },
  {
   "cell_type": "code",
   "execution_count": 68,
   "id": "1e462691-e045-4d45-a4c6-b3591d041d6c",
   "metadata": {},
   "outputs": [
    {
     "name": "stdout",
     "output_type": "stream",
     "text": [
      "List is [] is empty\n"
     ]
    }
   ],
   "source": [
    "x = []\n",
    "if len(x) == 0:\n",
    "    print(f\"List is {x} is empty\")\n",
    "else:\n",
    "    print(f\" List is {x} not empty\")"
   ]
  },
  {
   "cell_type": "markdown",
   "id": "f6b39702-c0e2-4f03-80af-0d67fdd93e53",
   "metadata": {},
   "source": [
    "## 37. How to concatenate two lists?"
   ]
  },
  {
   "cell_type": "code",
   "execution_count": 66,
   "id": "fba51ecc-8b0b-41db-a78d-d90fd74791b4",
   "metadata": {},
   "outputs": [
    {
     "name": "stdout",
     "output_type": "stream",
     "text": [
      "[4, 2, 6, 8, 1, 2, 6, 6, 8, -1, 2, -1]\n"
     ]
    }
   ],
   "source": [
    "x = [1,2,3,4,5]\n",
    "y = [6,7,8,9,10]\n",
    "c = a+b\n",
    "print(c)"
   ]
  },
  {
   "cell_type": "markdown",
   "id": "1a3db722-d436-4899-81ce-673ac0aa4996",
   "metadata": {},
   "source": [
    "## 38. Given a list of integers, create a new list where each element is replaced by the next largest number in the original list. If there is no larger number, replace the element with -1.\n",
    "input_list = [4, 2, 6, 8, 1, 2]\n",
    "output_list = [6, 6, 8, -1, 2, -1]"
   ]
  },
  {
   "cell_type": "code",
   "execution_count": 65,
   "id": "765a120b-3137-48ee-940d-778a840a13c3",
   "metadata": {},
   "outputs": [
    {
     "name": "stdout",
     "output_type": "stream",
     "text": [
      "[6, 6, 8, -1, 2, -1]\n"
     ]
    }
   ],
   "source": [
    "a = [4,2,6,8,1,2]\n",
    "b = []\n",
    "for i in range(len(a)):\n",
    "    \n",
    "    \n",
    "    for j in range(i + 1, len(a)):\n",
    "        if a[j] > a[i]:\n",
    "            b.append(a[j])\n",
    "            break\n",
    " \n",
    " \n",
    "    else:\n",
    "        b.append(-1)\n",
    "print(b)\n"
   ]
  },
  {
   "cell_type": "markdown",
   "id": "affa9094-f970-466b-8622-2a6f358bce7c",
   "metadata": {},
   "source": [
    "## 39. Write a function to reverse the elements within each tuple in a list of tuples.\n",
    "tuples = [(1, 2), (3, 4), (5, 6)]\n",
    "Output: [(2, 1), (4, 3), (6, 5)]"
   ]
  },
  {
   "cell_type": "code",
   "execution_count": 61,
   "id": "38421337-e8cd-4e3a-8ffa-47a63dea7b1f",
   "metadata": {},
   "outputs": [
    {
     "name": "stdout",
     "output_type": "stream",
     "text": [
      "[(1, 2), (3, 4), (5, 6)]\n",
      "[(1, 2), (3, 4), (5, 6)]\n",
      "[(1, 2), (3, 4), (5, 6)]\n",
      "[(2, 1), (4, 3), (6, 5)]\n"
     ]
    }
   ],
   "source": [
    "t1= [(1, 2), (3, 4), (5, 6)]\n",
    "t2=[]\n",
    "for i in t1:\n",
    "    print(t1)\n",
    "    rev=tuple(reversed(i))\n",
    "    t2.append(rev)\n",
    " \n",
    "print(t2)"
   ]
  },
  {
   "cell_type": "code",
   "execution_count": 64,
   "id": "5441ce76-313a-4f66-8469-4add372efa84",
   "metadata": {},
   "outputs": [
    {
     "data": {
      "text/plain": [
       "[(2, 1), (4, 3), (6, 5)]"
      ]
     },
     "execution_count": 64,
     "metadata": {},
     "output_type": "execute_result"
    }
   ],
   "source": [
    "tuples = [(1, 2), (3, 4), (5, 6)]\n",
    "tuples = [tuple(reversed(item)) for item in tuples]\n",
    "tuples"
   ]
  },
  {
   "cell_type": "markdown",
   "id": "a6ba4004-464f-42f9-90fd-005a14d0a8d3",
   "metadata": {},
   "source": [
    "## 40. Write a function to add corresponding elements of tuples in two lists of tuples\n",
    "list1 = [(1, 2), (3, 4)]\n",
    "list2 = [(5, 6), (7, 8)]\n",
    "Output: [(6, 8), (10, 12)]"
   ]
  },
  {
   "cell_type": "code",
   "execution_count": 60,
   "id": "71e46246-9666-4aa0-922f-3f390fa396f7",
   "metadata": {},
   "outputs": [
    {
     "name": "stdout",
     "output_type": "stream",
     "text": [
      "[(6, 8), (10, 12)]\n"
     ]
    }
   ],
   "source": [
    "list1 = [(1, 2), (3, 4)]\n",
    "list2 = [(5, 6), (7, 8)]\n",
    "list3=[]\n",
    "for i in range(len(list1)):\n",
    "    add_=()\n",
    "    for j in range(len(list2[i])):\n",
    "        add_+=(list1[i][j]+list2[i][j],)\n",
    "    list3.append(add_)\n",
    "print(list3)"
   ]
  },
  {
   "cell_type": "code",
   "execution_count": null,
   "id": "8b6a4f5d-55a0-4474-b609-2302dea4b2e2",
   "metadata": {},
   "outputs": [],
   "source": []
  }
 ],
 "metadata": {
  "kernelspec": {
   "display_name": "Python 3 (ipykernel)",
   "language": "python",
   "name": "python3"
  },
  "language_info": {
   "codemirror_mode": {
    "name": "ipython",
    "version": 3
   },
   "file_extension": ".py",
   "mimetype": "text/x-python",
   "name": "python",
   "nbconvert_exporter": "python",
   "pygments_lexer": "ipython3",
   "version": "3.12.3"
  }
 },
 "nbformat": 4,
 "nbformat_minor": 5
}
