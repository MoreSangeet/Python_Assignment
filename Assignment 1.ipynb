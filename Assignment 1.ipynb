{
 "cells": [
  {
   "cell_type": "markdown",
   "id": "8d74087f-78a7-4a4c-9670-60544e02bf48",
   "metadata": {},
   "source": [
    "# Assignment 1"
   ]
  },
  {
   "cell_type": "markdown",
   "id": "3d04932d-25ba-401b-b327-44c6fffcbc29",
   "metadata": {},
   "source": []
  },
  {
   "cell_type": "markdown",
   "id": "973646fb-b9f6-4bd5-9172-90f820c42005",
   "metadata": {},
   "source": [
    "## 1. What are the key features of the python ?"
   ]
  },
  {
   "cell_type": "code",
   "execution_count": null,
   "id": "59347fc1-54f5-4449-a585-eee337640473",
   "metadata": {},
   "outputs": [],
   "source": [
    "\n",
    "1. Python is dynamically typed languge. (no need to declare datatype means without any data type)\n",
    "2. Easy to read and easy to code\n",
    "3. Open source language\n",
    "4. Python is an interpreted language\n",
    "5. Python is object oriented programming language\n",
    "6. Compatible on any operating system like windows, macos, ubuntu\n",
    "7. Robust liabraries packages/modules etc\n",
    "     import os\n",
    "     import numpy\n",
    "     import pandas\n",
    "     import matplotlib\n",
    "8. Support for graphical user interface(GUI)\n",
    "9. Compatible on any operating system\n",
    "   like windows, macos, ubuntu\n"
   ]
  },
  {
   "cell_type": "markdown",
   "id": "dd042c52-f525-4984-9450-f9d5015e37d6",
   "metadata": {},
   "source": [
    "## 2. What are data types in python ?"
   ]
  },
  {
   "cell_type": "code",
   "execution_count": null,
   "id": "87053145-777f-4252-974d-56602d3ad346",
   "metadata": {},
   "outputs": [],
   "source": [
    "There are different data types in python :\n",
    "1. Numeric Datatype\n",
    "int : integer datatype contains integer values\n",
    "float : float datatype contains decimal values\n",
    "complex : complex datatype contains real + imaginary part\n",
    "2. Sequence Datatype\n",
    "str : string containg character\n",
    "list : collection of items in [] \n",
    "tuple : collection of items in ()\n",
    "3. Mapping Datatype\n",
    "dict :  dictory datatype contain key-value pair in {}\n",
    "4. Set Datatype\n",
    "set : set means collection of items in random manner or unordered in {}\n",
    "5. Boolean Datatype\n",
    "bool : boolean datatype give answer in True/False"
   ]
  },
  {
   "cell_type": "markdown",
   "id": "730eaa1e-381e-4a74-9306-082b183d2dba",
   "metadata": {},
   "source": [
    "## 3. What are local variables and global variables in Python?"
   ]
  },
  {
   "cell_type": "code",
   "execution_count": null,
   "id": "5e38fff5-ad77-484c-83c1-4e02caa01ea0",
   "metadata": {},
   "outputs": [],
   "source": [
    "1. Local variables are which we can access it from inside the function.\n",
    "2. Global variableare which we can access it from inside as well as outside.\n"
   ]
  },
  {
   "cell_type": "markdown",
   "id": "7b96711e-ff1b-4caa-b1f1-f0ff85bc4b72",
   "metadata": {},
   "source": [
    "## 4. How do you write comments in python? And Why Comments are important?"
   ]
  },
  {
   "cell_type": "code",
   "execution_count": null,
   "id": "9b99d149-fbca-401a-8211-84086ca4471a",
   "metadata": {},
   "outputs": [],
   "source": [
    "for single line comments we use ('#') at starting of the line.  eg #python\n",
    "for multiple line comments we use triple single quotes('''-----''') or triple double quotes(\"\"\"-----\"\"\").\n",
    "    eg   '''\n",
    "         hii\n",
    "         this is multiple line comments\n",
    "         thank you\n",
    "         '''\n",
    "\n",
    "Comments are used for our better understanding in that program.\n",
    "if we want to give some instruction in that code then we used comments in python."
   ]
  },
  {
   "cell_type": "markdown",
   "id": "cca152aa-ef46-4bdb-b5a5-122c6874683b",
   "metadata": {},
   "source": [
    "## 5. How to comment on multiple lines in python?"
   ]
  },
  {
   "cell_type": "code",
   "execution_count": null,
   "id": "a307f95b-902e-4d1a-8408-8208b530a3ac",
   "metadata": {},
   "outputs": [],
   "source": [
    "by using the ( ctrl + / ) function we can comment on multiple lines.\n",
    "for multiple line comments we use triple single quotes('''-----''') or triple double quotes(\"\"\"-----\"\"\").\n",
    "    eg   '''\n",
    "         hii\n",
    "         this is multiple line comments\n",
    "         thank you\n",
    "         '''"
   ]
  },
  {
   "cell_type": "markdown",
   "id": "65a65b6e-b0f1-437b-bb85-d74b932ddc15",
   "metadata": {},
   "source": [
    "## 6. What do you mean by Python literals?"
   ]
  },
  {
   "cell_type": "code",
   "execution_count": null,
   "id": "db913af9-1877-4a0d-9165-922a3f7a4b89",
   "metadata": {},
   "outputs": [],
   "source": [
    "Python literals are used for stored data values in your programs. That values are directly stored in programming and used in programs.\n",
    "There are different types of literals:\n",
    "    number - int(0,1,9), float(1.03,0.99), imaginary numbers\n",
    "    string - any text file (eg. \"python\", 'data')\n",
    "    boolean - True False"
   ]
  },
  {
   "cell_type": "markdown",
   "id": "6dd9d407-ff4b-4388-b259-c83e8bda8540",
   "metadata": {},
   "source": [
    "## 7. What are different ways to assign value to variables?"
   ]
  },
  {
   "cell_type": "code",
   "execution_count": 1,
   "id": "66008368-f122-42b0-aa7f-03e942a282e3",
   "metadata": {},
   "outputs": [
    {
     "data": {
      "text/plain": [
       "'Python and Data Science'"
      ]
     },
     "execution_count": 1,
     "metadata": {},
     "output_type": "execute_result"
    }
   ],
   "source": [
    "x = 100\n",
    "x,y,z = 100,200,300\n",
    "word = \"python\"\n",
    "new_word = 'Python and Data Science'\n",
    "\n",
    "x\n",
    "word\n",
    "new_word"
   ]
  },
  {
   "cell_type": "markdown",
   "id": "030e7ca9-2f79-4270-915f-6e4b0e952f93",
   "metadata": {},
   "source": [
    "## 8. What are the Escape Characters in python?"
   ]
  },
  {
   "cell_type": "code",
   "execution_count": null,
   "id": "03f2850b-daf9-4680-8091-0373e8982fc7",
   "metadata": {},
   "outputs": [],
   "source": [
    "\\ :- backlash is used to escape any special character  eg. [\\\"spcl_char\"\\]\n",
    "\\n :- It is used for new line"
   ]
  },
  {
   "cell_type": "markdown",
   "id": "499a7dcb-5770-46ad-b9f2-6cc8e065c612",
   "metadata": {},
   "source": [
    "## 9. Which are the different ways to perform string formatting? Explain with example."
   ]
  },
  {
   "cell_type": "code",
   "execution_count": 8,
   "id": "2a1cdfde-aa43-4287-9897-3e43d672184d",
   "metadata": {},
   "outputs": [
    {
     "name": "stdout",
     "output_type": "stream",
     "text": [
      "addition of 10 and 20 is 30 \n",
      "addition of 10 and 20 is 30\n"
     ]
    }
   ],
   "source": [
    "In string formatting we used curly brackets {} to hold values in particular function\n",
    "1. f-string: Formatted string\n",
    "2. str.format()\n",
    "\n",
    "a = 10\n",
    "b = 20\n",
    "c = a + b\n",
    "print(f'addition of {a} and {b} is {c} ')\n",
    "print('addition of',a,'and',b,'is',c)"
   ]
  },
  {
   "cell_type": "code",
   "execution_count": null,
   "id": "3822f9ce-60a1-4d17-9b4b-8f0253eee23d",
   "metadata": {},
   "outputs": [],
   "source": []
  },
  {
   "cell_type": "markdown",
   "id": "ea49c442-2f02-44c7-97db-09676a96b1b7",
   "metadata": {},
   "source": [
    "## 10. Write a program to print every character of a string entered by the user in a new line using a loop"
   ]
  },
  {
   "cell_type": "code",
   "execution_count": 7,
   "id": "ddf4d074-d095-4467-952a-b35ef0fae62f",
   "metadata": {},
   "outputs": [
    {
     "name": "stdout",
     "output_type": "stream",
     "text": [
      "H\n",
      "e\n",
      "l\n",
      "l\n",
      "o\n",
      " \n",
      "W\n",
      "o\n",
      "r\n",
      "l\n",
      "d\n"
     ]
    }
   ],
   "source": [
    "string = \"Hello World\"\n",
    "for i in string:\n",
    "    print(i)"
   ]
  },
  {
   "cell_type": "markdown",
   "id": "2bfa6fb5-0c5f-4ed7-9862-147ffea314f5",
   "metadata": {},
   "source": [
    "## 11. Write a program to fnd the length of the string \"machine learning\" with and without using len function."
   ]
  },
  {
   "cell_type": "code",
   "execution_count": 6,
   "id": "d3fadbf8-d524-40f7-bc87-922b4a01e66e",
   "metadata": {},
   "outputs": [
    {
     "data": {
      "text/plain": [
       "16"
      ]
     },
     "execution_count": 6,
     "metadata": {},
     "output_type": "execute_result"
    }
   ],
   "source": [
    "string = \"machine learning\"\n",
    "len(string)"
   ]
  },
  {
   "cell_type": "code",
   "execution_count": 1,
   "id": "9241413b-7c0d-45f1-b4b9-808e8b15e3b5",
   "metadata": {},
   "outputs": [
    {
     "name": "stdout",
     "output_type": "stream",
     "text": [
      "length of the string: {16}\n"
     ]
    }
   ],
   "source": [
    "string = \"machine learning\"\n",
    "count = 0\n",
    "for x in string:\n",
    "    count = count + 1\n",
    "\n",
    "print(f'length of the string:',{count})"
   ]
  },
  {
   "cell_type": "code",
   "execution_count": 1,
   "id": "1603cdde-d6d0-4b8a-b1ed-756ea5b83ff5",
   "metadata": {},
   "outputs": [
    {
     "name": "stdout",
     "output_type": "stream",
     "text": [
      "length of the string : {16}\n"
     ]
    }
   ],
   "source": [
    "string = 'machine learning'\n",
    "count = 0\n",
    "for i in string:\n",
    "    count+=1\n",
    "\n",
    "print(f'length of the string :',{count})"
   ]
  },
  {
   "cell_type": "markdown",
   "id": "8108dbd1-ccde-46b0-bf25-a6d176039555",
   "metadata": {},
   "source": [
    "## 12. Write a program to check if the word 'orange' is prensent in the \"This is orange juice\"."
   ]
  },
  {
   "cell_type": "code",
   "execution_count": 10,
   "id": "f2be5404-96a9-419a-9540-02e656aca8de",
   "metadata": {},
   "outputs": [
    {
     "name": "stdout",
     "output_type": "stream",
     "text": [
      "orange is present in string This is orange juice\n"
     ]
    }
   ],
   "source": [
    "string = \"This is orange juice\"\n",
    "word = \"orange\"\n",
    "word in string\n",
    "print(f'{word} is present in string {string}')"
   ]
  },
  {
   "cell_type": "code",
   "execution_count": 4,
   "id": "613dcec7-e621-4092-862a-0bc9c48152d8",
   "metadata": {},
   "outputs": [
    {
     "name": "stdout",
     "output_type": "stream",
     "text": [
      "orange is present in string\n"
     ]
    }
   ],
   "source": [
    "string = \"This is orange juice\"\n",
    "x = \"orange\"\n",
    "if x in string:\n",
    "    print(\"orange is present in string\")\n",
    "\n",
    "else:\n",
    "    print(\"orange is not present in list\")"
   ]
  },
  {
   "cell_type": "markdown",
   "id": "6d91a9ef-8502-4a49-94cc-2dc28b79a4d3",
   "metadata": {},
   "source": [
    "## 13. Write a program to find the number of vowels, consonants, digits, and white space characters in a string."
   ]
  },
  {
   "cell_type": "code",
   "execution_count": 10,
   "id": "8811cebf-dc98-4af3-a420-f98ba18d926a",
   "metadata": {},
   "outputs": [
    {
     "name": "stdout",
     "output_type": "stream",
     "text": [
      "Vowels :6\n",
      "Consonants :9\n",
      "Digits :1\n",
      "Whitespaces :4\n"
     ]
    }
   ],
   "source": [
    "string = \"My Name is 0 Sangeet\"\n",
    "vowels = 'aeiouAEIOU'\n",
    "digits = '0123456789'\n",
    "\n",
    "vowel_count = 0\n",
    "consonant_count = 0\n",
    "digit_count = 0\n",
    "whitespace_count = 0\n",
    "\n",
    "for char in string:\n",
    "    if char in vowels:\n",
    "        vowel_count += 1\n",
    "    elif char.isdigit():\n",
    "        digit_count += 1\n",
    "    elif char.isspace():\n",
    "        whitespace_count += 1\n",
    "    elif char.isalpha():\n",
    "        consonant_count += 1 \n",
    "\n",
    "print(f'Vowels :{vowel_count}')\n",
    "print(f'Consonants :{consonant_count}')\n",
    "print(f'Digits :{digit_count}')  \n",
    "print(f'Whitespaces :{whitespace_count}')"
   ]
  },
  {
   "cell_type": "markdown",
   "id": "4033b0e6-c6b4-4894-9fd1-6028b55b4312",
   "metadata": {},
   "source": [
    "## 14. Write a Python program to count Uppercase, Lowercase, special character, and numeric values in a given string."
   ]
  },
  {
   "cell_type": "code",
   "execution_count": 13,
   "id": "f7ba2983-60cb-4c7f-9b30-55e5f02ffe1d",
   "metadata": {},
   "outputs": [
    {
     "name": "stdout",
     "output_type": "stream",
     "text": [
      "Vowels :15\n",
      "Consonants :23\n",
      "Uppercase :0\n",
      "Lowercase :0\n",
      "Digits :7\n",
      "Whitespaces :10\n",
      "Special_chracters :2\n"
     ]
    }
   ],
   "source": [
    "string = \"Welcome to the 2024's new era of learning @ virtually 999\"\n",
    "vowels = 'aeiouAEIOU'\n",
    "digits = '0123456789'\n",
    "\n",
    "vowel_count = 0\n",
    "consonant_count = 0\n",
    "uppercase_count = 0\n",
    "lowercase_count = 0\n",
    "specialcharacter_count = 0\n",
    "digit_count = 0\n",
    "whitespace_count = 0\n",
    "\n",
    "for char in string:\n",
    "    if char in vowels:\n",
    "        vowel_count += 1\n",
    "    elif char.isalpha():\n",
    "        consonant_count += 1     \n",
    "    elif char.isupper():\n",
    "        uppercase_count += 1\n",
    "    elif char.islower():\n",
    "        lowercase_count += 1\n",
    "    elif char.isdigit():\n",
    "        digit_count += 1\n",
    "    elif char.isspace():\n",
    "        whitespace_count += 1    \n",
    "    else:\n",
    "        specialcharacter_count += 1\n",
    "\n",
    "print(f'Vowels :{vowel_count}')\n",
    "print(f'Consonants :{consonant_count}')\n",
    "print(f'Uppercase :{uppercase_count}')\n",
    "print(f'Lowercase :{lowercase_count}')\n",
    "print(f'Digits :{digit_count}')  \n",
    "print(f'Whitespaces :{whitespace_count}')\n",
    "print(f'Special_chracters :{specialcharacter_count}')"
   ]
  },
  {
   "cell_type": "code",
   "execution_count": 14,
   "id": "6802877b-9278-4b5b-96c6-25df41f1b91b",
   "metadata": {},
   "outputs": [
    {
     "name": "stdout",
     "output_type": "stream",
     "text": [
      "Uppercase :3\n",
      "Lowercase :9\n",
      "Digit :4\n",
      "SpecialCharacter :6\n"
     ]
    }
   ],
   "source": [
    "string = \"Hello My World!! 2024.\"\n",
    "upper_count = 0\n",
    "lower_count = 0\n",
    "digit_count = 0\n",
    "specialcharacter_count = 0\n",
    "\n",
    "for char in string:\n",
    "    if char.isupper():\n",
    "        upper_count += 1\n",
    "    elif char.islower():\n",
    "        lower_count += 1\n",
    "    elif char.isdigit():\n",
    "        digit_count += 1\n",
    "    else:\n",
    "        specialcharacter_count += 1\n",
    "\n",
    "print(f'Uppercase :{upper_count}')\n",
    "print(f'Lowercase :{lower_count}')\n",
    "print(f'Digit :{digit_count}')\n",
    "print(f'SpecialCharacter :{specialcharacter_count}')"
   ]
  },
  {
   "cell_type": "markdown",
   "id": "44280f59-035c-4494-8f81-9b2a7133f8fe",
   "metadata": {},
   "source": [
    "## 15. Write a program to make a new string with all the consonants deleted from the string \"Hello, have a good day\"."
   ]
  },
  {
   "cell_type": "code",
   "execution_count": 11,
   "id": "aad95152-c0c4-44a6-bf2a-b9c75f081c9d",
   "metadata": {},
   "outputs": [
    {
     "name": "stdout",
     "output_type": "stream",
     "text": [
      "New string without consonant is: eoaeaooa\n"
     ]
    }
   ],
   "source": [
    "string = \"Hello, have a good day\"\n",
    "vowels = 'aeiouAEIOU'\n",
    "new_string = \"\"\n",
    "for char in string:\n",
    "    if char in vowels:\n",
    "        new_string += char\n",
    "print('New string without consonant is:',new_string)"
   ]
  },
  {
   "cell_type": "markdown",
   "id": "3521da83-62e5-41d5-816a-e31838c64104",
   "metadata": {},
   "source": [
    "## 16. Write a Python program to remove the nth index character from a non-empty string."
   ]
  },
  {
   "cell_type": "code",
   "execution_count": 14,
   "id": "74710a46-e9bf-4f12-982a-6332bd7c1e2e",
   "metadata": {},
   "outputs": [
    {
     "data": {
      "text/plain": [
       "'GooMorning'"
      ]
     },
     "execution_count": 14,
     "metadata": {},
     "output_type": "execute_result"
    }
   ],
   "source": [
    "string = \"GoodMorning\"\n",
    "index = 3   # if we want to remove 3rd character from string [index = 3]\n",
    "string[0:3]+string[3+1:]"
   ]
  },
  {
   "cell_type": "code",
   "execution_count": 15,
   "id": "46bb9384-81cd-4741-8e8a-1ad861cb6975",
   "metadata": {},
   "outputs": [
    {
     "name": "stdin",
     "output_type": "stream",
     "text": [
      "Enter index number 3\n"
     ]
    },
    {
     "name": "stdout",
     "output_type": "stream",
     "text": [
      "GooMorning\n"
     ]
    }
   ],
   "source": [
    "n = int(input(\"Enter index number\"))\n",
    "string = \"GoodMorning\"\n",
    "new_string = string[0:n]+string[n+1:len(string)]\n",
    "print(new_string)"
   ]
  },
  {
   "cell_type": "markdown",
   "id": "e8c9c6dd-47f0-46ef-ab6f-a14d2c55d68c",
   "metadata": {},
   "source": [
    "## 17. Write a Python program to change a given string to a new string where the first and last characters have been exchanged."
   ]
  },
  {
   "cell_type": "code",
   "execution_count": 18,
   "id": "653bfcc9-baae-4cfd-a069-b19e0716f577",
   "metadata": {},
   "outputs": [
    {
     "data": {
      "text/plain": [
       "'delloWorlH'"
      ]
     },
     "execution_count": 18,
     "metadata": {},
     "output_type": "execute_result"
    }
   ],
   "source": [
    "string=\"HelloWorld\"\n",
    "string[-1]+string[1:-1]+string[0]"
   ]
  },
  {
   "cell_type": "code",
   "execution_count": 19,
   "id": "d8db574c-cab2-4e51-9e72-a88c8e55f3c7",
   "metadata": {},
   "outputs": [
    {
     "name": "stdin",
     "output_type": "stream",
     "text": [
      "Enter string: HelloWorld\n"
     ]
    },
    {
     "name": "stdout",
     "output_type": "stream",
     "text": [
      "delloWorlH\n"
     ]
    }
   ],
   "source": [
    "string = input(\"Enter string:\")\n",
    "new_string = string[-1]+string[1:-1]+string[0]\n",
    "print(new_string)"
   ]
  },
  {
   "cell_type": "markdown",
   "id": "c414c32e-1201-427c-a6b9-7ddf136333ba",
   "metadata": {},
   "source": [
    "## 18. Write a Python program to count the occurrences of each word in a given sentence."
   ]
  },
  {
   "cell_type": "code",
   "execution_count": 20,
   "id": "f35c9c5e-3033-4ef4-bc99-556ac179251e",
   "metadata": {},
   "outputs": [
    {
     "name": "stdout",
     "output_type": "stream",
     "text": [
      "P 1\n",
      "y 1\n",
      "t 1\n",
      "h 1\n",
      "o 2\n",
      "n 3\n",
      "  4\n",
      "i 2\n",
      "s 1\n",
      "  4\n",
      "a 4\n",
      "  4\n",
      "p 1\n",
      "r 2\n",
      "o 2\n",
      "g 4\n",
      "r 2\n",
      "a 4\n",
      "m 2\n",
      "m 2\n",
      "i 2\n",
      "n 3\n",
      "g 4\n",
      "  4\n",
      "l 1\n",
      "a 4\n",
      "n 3\n",
      "g 4\n",
      "u 1\n",
      "a 4\n",
      "g 4\n",
      "e 1\n"
     ]
    }
   ],
   "source": [
    "string = \"Python is a programming language\"\n",
    "for char in string :\n",
    " print(char,string.count(char))"
   ]
  },
  {
   "cell_type": "markdown",
   "id": "ff0e7f50-d987-4843-8418-3159ae059fb3",
   "metadata": {},
   "source": [
    "## 19. How do you count the occurrence of a given character in a string?"
   ]
  },
  {
   "cell_type": "code",
   "execution_count": 23,
   "id": "a49a3bfe-cbae-474e-a6d7-0f8edf5de51e",
   "metadata": {},
   "outputs": [
    {
     "data": {
      "text/plain": [
       "4"
      ]
     },
     "execution_count": 23,
     "metadata": {},
     "output_type": "execute_result"
    }
   ],
   "source": [
    "string = \"Welcome to the jupyter notebook\"\n",
    "string.count('e')"
   ]
  },
  {
   "cell_type": "code",
   "execution_count": 24,
   "id": "85d2f65d-2ccf-4c5c-9635-43d3fe34ae7b",
   "metadata": {},
   "outputs": [
    {
     "data": {
      "text/plain": [
       "4"
      ]
     },
     "execution_count": 24,
     "metadata": {},
     "output_type": "execute_result"
    }
   ],
   "source": [
    "string.count(' ')"
   ]
  },
  {
   "cell_type": "code",
   "execution_count": 25,
   "id": "63c22232-561f-4b7f-b83d-1987fc806ce4",
   "metadata": {},
   "outputs": [
    {
     "data": {
      "text/plain": [
       "1"
      ]
     },
     "execution_count": 25,
     "metadata": {},
     "output_type": "execute_result"
    }
   ],
   "source": [
    "string.count('m')"
   ]
  },
  {
   "cell_type": "markdown",
   "id": "5b02e43a-25e4-4530-81b6-95af2b7761d5",
   "metadata": {},
   "source": [
    "## 20. Write a program to find last 10 characters of a string?"
   ]
  },
  {
   "cell_type": "code",
   "execution_count": 26,
   "id": "f962dc8d-371e-47fb-b6bc-5a9e6867114a",
   "metadata": {},
   "outputs": [
    {
     "data": {
      "text/plain": [
       "'e Learning'"
      ]
     },
     "execution_count": 26,
     "metadata": {},
     "output_type": "execute_result"
    }
   ],
   "source": [
    "string = \"Machine Learning\"\n",
    "string[-10:]"
   ]
  },
  {
   "cell_type": "markdown",
   "id": "b97270fd-d3a0-49a3-bc04-ce70af248dbd",
   "metadata": {},
   "source": [
    "## 21. WAP to convert a given string to all uppercase if it contains at least 2 uppercase characters in the first 4 characters."
   ]
  },
  {
   "cell_type": "code",
   "execution_count": 30,
   "id": "50cd2514-a668-4762-a607-a7067407f38f",
   "metadata": {},
   "outputs": [
    {
     "name": "stdout",
     "output_type": "stream",
     "text": [
      "DATASCIENCE\n"
     ]
    }
   ],
   "source": [
    "string = \"DaTaScience\"\n",
    "x = string[:4]\n",
    "count = 0\n",
    "for char in x:\n",
    "    if char.isupper():\n",
    "        count += 1\n",
    "if count>=2:\n",
    " print(string.upper())\n",
    " \n",
    " \n",
    "else:\n",
    " print(string)\n",
    "    "
   ]
  },
  {
   "cell_type": "markdown",
   "id": "94ef4191-da38-4a09-933c-0d7f5d1f42c8",
   "metadata": {},
   "source": [
    "## 22.Write a Python program to remove a newline in Python.\n"
   ]
  },
  {
   "cell_type": "code",
   "execution_count": 34,
   "id": "912ec7ce-e6d4-488d-8c68-f60cd4afd5df",
   "metadata": {},
   "outputs": [
    {
     "name": "stdout",
     "output_type": "stream",
     "text": [
      "Data Science \n"
     ]
    }
   ],
   "source": [
    "string = \"Data\\nScience \"\n",
    "new_string=string.replace(\"\\n\",\" \")\n",
    "print(new_string)"
   ]
  },
  {
   "cell_type": "markdown",
   "id": "0389efb3-868d-4de9-9643-77ae36b73385",
   "metadata": {},
   "source": [
    "## 23. Write a Python program to swap commas and dots in a string\n",
    "○ Sample string: \"32.054,23\"\n",
    "○ Expected Output: \"32,054.23\""
   ]
  },
  {
   "cell_type": "code",
   "execution_count": 35,
   "id": "68a3c532-5422-4887-a0fc-a24310c39829",
   "metadata": {},
   "outputs": [
    {
     "data": {
      "text/plain": [
       "'32,054.23'"
      ]
     },
     "execution_count": 35,
     "metadata": {},
     "output_type": "execute_result"
    }
   ],
   "source": [
    "a=\"32.054,23\"\n",
    "b=a.replace(\",\",\" \")\n",
    "c=b.replace(\".\",\",\")\n",
    "d=c.replace(\" \",\".\")\n",
    "d"
   ]
  },
  {
   "cell_type": "markdown",
   "id": "6ed86278-2bc3-429b-a6b8-6c73f1be9f13",
   "metadata": {},
   "source": [
    "## 24.Write a Python program to find the first repeated character in a given string"
   ]
  },
  {
   "cell_type": "code",
   "execution_count": 2,
   "id": "80946306-7ead-4629-9ca1-722aa2d715de",
   "metadata": {},
   "outputs": [
    {
     "name": "stdout",
     "output_type": "stream",
     "text": [
      "The first repeated character is: r\n"
     ]
    }
   ],
   "source": [
    "def find_first_repeated_char(s):\n",
    "    seen = set()  # Set to track characters we've encountered\n",
    "    for char in s:\n",
    "        if char in seen:\n",
    "            return char  # Return the first repeated character\n",
    "        seen.add(char)\n",
    "    return None  # Return None if no characters are repeated\n",
    "\n",
    "# Example usage\n",
    "input_string = \"programming\"\n",
    "result = find_first_repeated_char(input_string)\n",
    "print(f\"The first repeated character is: {result}\" if result else \"No characters are repeated.\")"
   ]
  },
  {
   "cell_type": "code",
   "execution_count": null,
   "id": "f28caadd-655a-4685-b678-221d21f009dd",
   "metadata": {},
   "outputs": [],
   "source": []
  },
  {
   "cell_type": "markdown",
   "id": "77071d23-ba00-4b0e-a65a-5976bb92a173",
   "metadata": {},
   "source": [
    "## 25. Write a Python program to find the second most repeated word in a given string"
   ]
  },
  {
   "cell_type": "code",
   "execution_count": null,
   "id": "64b2d28b-0035-4da9-8486-5c1e89bb3686",
   "metadata": {},
   "outputs": [],
   "source": []
  },
  {
   "cell_type": "markdown",
   "id": "d4549665-4c38-4f42-869f-0d33a0a66d85",
   "metadata": {},
   "source": [
    "## 26.Python program to Count Even and Odd numbers in a string"
   ]
  },
  {
   "cell_type": "code",
   "execution_count": 44,
   "id": "99ea9772-7268-4b9c-a1aa-6a641101dcd6",
   "metadata": {},
   "outputs": [
    {
     "name": "stdout",
     "output_type": "stream",
     "text": [
      "Count of even_numbers: 2\n",
      "Count of odd_numbers: 5\n"
     ]
    }
   ],
   "source": [
    "x = \"9875321\"\n",
    "odd_numbers = 0\n",
    "even_numbers = 0\n",
    "\n",
    "for char in x:\n",
    "    if char.isdigit():\n",
    "        if int(char)%2 == 0:\n",
    "            even_numbers += 1\n",
    " \n",
    "        else:\n",
    "            odd_numbers += 1\n",
    " \n",
    "print(\"Count of even_numbers:\",even_numbers) \n",
    "print(\"Count of odd_numbers:\",odd_numbers)\n"
   ]
  },
  {
   "cell_type": "markdown",
   "id": "e471699e-76ca-40ba-8a1a-d137394ac937",
   "metadata": {},
   "source": [
    "## 27. How do you check if a string contains only digits?"
   ]
  },
  {
   "cell_type": "code",
   "execution_count": 45,
   "id": "caa242f1-9e2f-4c56-9bbe-087ee19ecfd6",
   "metadata": {},
   "outputs": [
    {
     "data": {
      "text/plain": [
       "True"
      ]
     },
     "execution_count": 45,
     "metadata": {},
     "output_type": "execute_result"
    }
   ],
   "source": [
    "string = \"9876543210\"\n",
    "string.isdigit()"
   ]
  },
  {
   "cell_type": "code",
   "execution_count": 46,
   "id": "62053378-1b62-4627-b3cf-af470005e394",
   "metadata": {},
   "outputs": [
    {
     "name": "stdout",
     "output_type": "stream",
     "text": [
      "9876543210 contains only digits\n"
     ]
    }
   ],
   "source": [
    "string = \"9876543210\"\n",
    "if not string.isdigit():\n",
    "    print(f'{string} is not contains only digits')\n",
    "else:\n",
    "    print(f'{string} contains only digits')"
   ]
  },
  {
   "cell_type": "code",
   "execution_count": 47,
   "id": "e41b5ba1-d8e7-4507-954c-cb7aaf2f8835",
   "metadata": {},
   "outputs": [
    {
     "name": "stdout",
     "output_type": "stream",
     "text": [
      "987XYZ6543210 is not contains only digits\n"
     ]
    }
   ],
   "source": [
    "string = \"987XYZ6543210\"\n",
    "if not string.isdigit():\n",
    "    print(f'{string} is not contains only digits')\n",
    "else:\n",
    "    print(f'{string} contains only digits')"
   ]
  },
  {
   "cell_type": "markdown",
   "id": "8df8db98-1180-4276-870b-47abb177db7a",
   "metadata": {},
   "source": [
    "## 28. How do you remove a given character/word from String?"
   ]
  },
  {
   "cell_type": "code",
   "execution_count": 48,
   "id": "78c15931-e7ce-4545-809b-b9a005830acd",
   "metadata": {},
   "outputs": [
    {
     "name": "stdin",
     "output_type": "stream",
     "text": [
      "Enter the Character/word that wanna be remove :  programming\n"
     ]
    },
    {
     "data": {
      "text/plain": [
       "'Python is a  language '"
      ]
     },
     "execution_count": 48,
     "metadata": {},
     "output_type": "execute_result"
    }
   ],
   "source": [
    "x = \"Python is a programming language \"\n",
    "n = input(\"Enter the Character/word that wanna be remove : \")\n",
    "x.replace(n,\"\")"
   ]
  },
  {
   "cell_type": "markdown",
   "id": "6c2b58ad-dc58-442e-b651-32728892ecf4",
   "metadata": {},
   "source": [
    "## 29. Write a Python program to remove the characters which have odd index values of a given string"
   ]
  },
  {
   "cell_type": "code",
   "execution_count": 51,
   "id": "d478183e-9797-446e-b186-b8e93d582bd3",
   "metadata": {},
   "outputs": [
    {
     "name": "stdout",
     "output_type": "stream",
     "text": [
      "Pto sapormiglnug\n"
     ]
    }
   ],
   "source": [
    "string = \"Python is a programming language\"\n",
    "new_string = []\n",
    "for index,char in enumerate(string):\n",
    " \n",
    " if index%2==0:\n",
    "     new_string.append(char)\n",
    " \n",
    "print(\"\".join(new_string))"
   ]
  },
  {
   "cell_type": "markdown",
   "id": "21b09909-74cd-4dc5-88c1-7a1d87e8d612",
   "metadata": {},
   "source": [
    "## 30. Write a Python function to reverses a string if its length is a multiple of 5"
   ]
  },
  {
   "cell_type": "code",
   "execution_count": 55,
   "id": "bb9d811c-9b8f-4b4b-aed5-014b293115e0",
   "metadata": {},
   "outputs": [
    {
     "data": {
      "text/plain": [
       "'egaugnaL nohtyP'"
      ]
     },
     "execution_count": 55,
     "metadata": {},
     "output_type": "execute_result"
    }
   ],
   "source": [
    "string = \"Python Language\"\n",
    "string[::-1]"
   ]
  },
  {
   "cell_type": "code",
   "execution_count": 56,
   "id": "30b21dff-e12b-4982-b9c4-3756411be5ec",
   "metadata": {},
   "outputs": [
    {
     "name": "stdout",
     "output_type": "stream",
     "text": [
      "egaugnaL nohtyP\n"
     ]
    }
   ],
   "source": [
    "string = \"Python Language\"\n",
    "length = len(string)\n",
    "if length % 5 == 0:\n",
    "    print(string[::-1])\n",
    "else:\n",
    "    print(string[:])\n",
    "    "
   ]
  },
  {
   "cell_type": "code",
   "execution_count": 57,
   "id": "e54a5969-1f22-4f88-9992-f0cb8ec13476",
   "metadata": {},
   "outputs": [
    {
     "name": "stdout",
     "output_type": "stream",
     "text": [
      "Sangeet\n"
     ]
    }
   ],
   "source": [
    "string = \"Sangeet\"\n",
    "length = len(string)\n",
    "if length % 5 == 0:\n",
    "    print(string[::-1])\n",
    "else:\n",
    "    print(string[:])\n",
    "    "
   ]
  },
  {
   "cell_type": "markdown",
   "id": "b14dc5f9-67b0-4912-be37-7d23ad778e56",
   "metadata": {},
   "source": [
    "## 31. Write a Python program to format a number with a percentage(0.05 >> 5%)"
   ]
  },
  {
   "cell_type": "code",
   "execution_count": 58,
   "id": "4a19c2f9-43dc-4763-bcab-369a414e8ef3",
   "metadata": {},
   "outputs": [
    {
     "name": "stdin",
     "output_type": "stream",
     "text": [
      "Enter the number: 72\n"
     ]
    },
    {
     "name": "stdout",
     "output_type": "stream",
     "text": [
      "7200 %\n"
     ]
    }
   ],
   "source": [
    "x = int(input(\"Enter the number:\"))\n",
    "y = (x*100)\n",
    "print(y, \"%\")"
   ]
  },
  {
   "cell_type": "code",
   "execution_count": 60,
   "id": "0542e456-46f9-4749-a601-9b947668f0d0",
   "metadata": {},
   "outputs": [
    {
     "name": "stdin",
     "output_type": "stream",
     "text": [
      "Enter the number: 0.05\n"
     ]
    },
    {
     "name": "stdout",
     "output_type": "stream",
     "text": [
      "5.0 %\n"
     ]
    }
   ],
   "source": [
    "x = float(input(\"Enter the number:\"))\n",
    "y = (x*100)\n",
    "print(y, \"%\")"
   ]
  },
  {
   "cell_type": "markdown",
   "id": "bdaa3ba5-88cf-4d24-8ede-35f0f02b24c4",
   "metadata": {},
   "source": [
    "## 32. Write a Python program to reverse words in a string"
   ]
  },
  {
   "cell_type": "code",
   "execution_count": 61,
   "id": "df107634-a09c-4d2b-982e-637bc967234f",
   "metadata": {},
   "outputs": [
    {
     "name": "stdout",
     "output_type": "stream",
     "text": [
      "Science Data\n"
     ]
    }
   ],
   "source": [
    "x = \"Data Science\"\n",
    "y = x.split(\" \")\n",
    "z = y[::-1]\n",
    "string = \" \".join(z)\n",
    "print(string)"
   ]
  },
  {
   "cell_type": "markdown",
   "id": "139b584a-4da6-4dd2-82a8-905f167ef7af",
   "metadata": {},
   "source": [
    "## 33. Write a Python program to swap cases of a given string"
   ]
  },
  {
   "cell_type": "code",
   "execution_count": 62,
   "id": "86e5221e-74c5-4ec1-baa7-670b36754c47",
   "metadata": {},
   "outputs": [
    {
     "data": {
      "text/plain": [
       "'pYTHON aND dATA sCIENCE'"
      ]
     },
     "execution_count": 62,
     "metadata": {},
     "output_type": "execute_result"
    }
   ],
   "source": [
    "string = \"Python And Data Science\"\n",
    "string.swapcase()"
   ]
  },
  {
   "cell_type": "markdown",
   "id": "5b1ba29b-85a7-400c-9a1d-cdc300c2a4d4",
   "metadata": {},
   "source": [
    "## 34. Write a Python program to remove spaces from a given string"
   ]
  },
  {
   "cell_type": "code",
   "execution_count": 63,
   "id": "5f81c67b-756e-4d6f-aaaf-dddb6ea3aafe",
   "metadata": {},
   "outputs": [
    {
     "data": {
      "text/plain": [
       "'PythonIsProgrammingLanguage'"
      ]
     },
     "execution_count": 63,
     "metadata": {},
     "output_type": "execute_result"
    }
   ],
   "source": [
    "string = \"Python Is Programming Language\"\n",
    "string.replace(\" \",\"\")"
   ]
  },
  {
   "cell_type": "markdown",
   "id": "21a88ecf-caf2-4634-9eaf-dbda93466df3",
   "metadata": {},
   "source": [
    "## 35. Write a Python program to remove duplicate characters of a given string"
   ]
  },
  {
   "cell_type": "code",
   "execution_count": 64,
   "id": "02058687-a436-42d5-b686-03ae78d91155",
   "metadata": {},
   "outputs": [
    {
     "name": "stdout",
     "output_type": "stream",
     "text": [
      "Sucesfl\n"
     ]
    }
   ],
   "source": [
    "string = \"Successfull\"\n",
    "result = \"\" \n",
    "for char in string:\n",
    "    if char not in result:\n",
    "        result = result+char \n",
    "print(result) "
   ]
  },
  {
   "cell_type": "markdown",
   "id": "eca11ca1-efe3-4dd4-b501-73ac2050842b",
   "metadata": {},
   "source": [
    "## 36. Write a Python Program to find the area of a circle"
   ]
  },
  {
   "cell_type": "code",
   "execution_count": 65,
   "id": "56bd4f95-8d89-4f21-9116-15170ed59737",
   "metadata": {},
   "outputs": [
    {
     "name": "stdin",
     "output_type": "stream",
     "text": [
      "Enter radius of circle: 10\n"
     ]
    },
    {
     "name": "stdout",
     "output_type": "stream",
     "text": [
      "Area_of_circle:314.0\n"
     ]
    }
   ],
   "source": [
    "x = float(input(\"Enter radius of circle:\"))\n",
    "Area_of_circle = 3.14*x**2\n",
    "print(f\"Area_of_circle:{Area_of_circle}\")"
   ]
  },
  {
   "cell_type": "code",
   "execution_count": 66,
   "id": "0b381284-d75b-4053-8a3a-3115be7729fd",
   "metadata": {},
   "outputs": [
    {
     "name": "stdin",
     "output_type": "stream",
     "text": [
      "Enter radius of circle: 3.15\n"
     ]
    },
    {
     "name": "stdout",
     "output_type": "stream",
     "text": [
      "Area_of_circle:31.15665\n"
     ]
    }
   ],
   "source": [
    "x = float(input(\"Enter radius of circle:\"))\n",
    "Area_of_circle = 3.14*x**2\n",
    "print(f\"Area_of_circle:{Area_of_circle}\")"
   ]
  },
  {
   "cell_type": "markdown",
   "id": "cffaf26b-09db-4136-8841-2fc02b5c2485",
   "metadata": {},
   "source": [
    "## 37. Python Program to find Sum of squares of first n natural numbers"
   ]
  },
  {
   "cell_type": "code",
   "execution_count": 68,
   "id": "f5308c3c-bce8-4679-bc04-63348039615e",
   "metadata": {},
   "outputs": [
    {
     "name": "stdout",
     "output_type": "stream",
     "text": [
      "55\n"
     ]
    }
   ],
   "source": [
    "numbers = (0,1,2,3,4,5)\n",
    "sum = 0\n",
    "for i in numbers:\n",
    "    sum = sum + (i**2)\n",
    "print(sum)\n"
   ]
  },
  {
   "cell_type": "code",
   "execution_count": 70,
   "id": "e36bce84-20f1-4804-8b61-38385aa61924",
   "metadata": {},
   "outputs": [
    {
     "name": "stdin",
     "output_type": "stream",
     "text": [
      "Enter the number 5\n"
     ]
    },
    {
     "name": "stdout",
     "output_type": "stream",
     "text": [
      "the sum of square of 5 number is: 55\n"
     ]
    }
   ],
   "source": [
    "n = int(input(\"Enter the number\"))\n",
    "sum = (n*(n+1)*(2*n+1))/6\n",
    "print(f\"the sum of square of {n} number is:\",int(sum))"
   ]
  },
  {
   "cell_type": "markdown",
   "id": "2ab542bb-981d-4a4a-a500-66566465059d",
   "metadata": {},
   "source": [
    "## 38. Python Program to find cube sum of first n natural numbers"
   ]
  },
  {
   "cell_type": "code",
   "execution_count": 71,
   "id": "153f97f5-8528-4ad1-a2fc-ff508f1e5154",
   "metadata": {},
   "outputs": [
    {
     "name": "stdout",
     "output_type": "stream",
     "text": [
      "225\n"
     ]
    }
   ],
   "source": [
    "numbers = (0,1,2,3,4,5)\n",
    "sum = 0\n",
    "for i in numbers:\n",
    "    sum = sum + (i**3)\n",
    "print(sum)"
   ]
  },
  {
   "cell_type": "code",
   "execution_count": 72,
   "id": "af8c78cb-48f0-4b48-98b2-bcb513ef7de7",
   "metadata": {},
   "outputs": [
    {
     "name": "stdin",
     "output_type": "stream",
     "text": [
      "Enter the number 5\n"
     ]
    },
    {
     "name": "stdout",
     "output_type": "stream",
     "text": [
      "the cube sum of values 5 number is: 225\n"
     ]
    }
   ],
   "source": [
    "n = int(input(\"Enter the number\"))\n",
    "sum = (n**2*(n+1)**2)/4\n",
    "print(f\"the cube sum of values {n} number is:\",int(sum))"
   ]
  },
  {
   "cell_type": "markdown",
   "id": "52e2bf26-bef4-4116-b3f8-6a17fe9a6f18",
   "metadata": {},
   "source": [
    "## 39. Python Program to find simple interest and compound interest"
   ]
  },
  {
   "cell_type": "code",
   "execution_count": 74,
   "id": "d83bd8f3-81d0-445d-bc3e-8a912414862a",
   "metadata": {},
   "outputs": [
    {
     "name": "stdout",
     "output_type": "stream",
     "text": [
      "simple intrest=10800.0\n",
      "compunt intrest = 26995.541530239992\n"
     ]
    }
   ],
   "source": [
    "principal = 10000\n",
    "rate = 18\n",
    "time = 6\n",
    "\n",
    "simple_int = (principal*rate*time)/100\n",
    "print(f\"simple intrest={simple_int}\")\n",
    "\n",
    "compound_int = principal *((1+ rate/100)** time)\n",
    "print(f\"compunt intrest = {compound_int}\")"
   ]
  },
  {
   "cell_type": "markdown",
   "id": "688d95af-9cc4-40e5-ab08-ef16dea0a9b4",
   "metadata": {},
   "source": [
    "## 40. Python program to check whether a number is Prime or not"
   ]
  },
  {
   "cell_type": "code",
   "execution_count": 75,
   "id": "e17311bc-f115-4ea7-a260-3d3c3ec5d5ba",
   "metadata": {},
   "outputs": [
    {
     "name": "stdin",
     "output_type": "stream",
     "text": [
      "Enter the number: 3\n"
     ]
    },
    {
     "name": "stdout",
     "output_type": "stream",
     "text": [
      "It is a prime number\n"
     ]
    }
   ],
   "source": [
    "\n",
    "n = int(input(\"Enter the number:\"))\n",
    "if n <= 1:\n",
    "    print(\"It is not a prime number\") \n",
    "elif n == 2:\n",
    "    print(\"It is a prime number\")\n",
    "elif n%2==0:\n",
    "    print(\"it is a not a prime number\")\n",
    " \n",
    "else:\n",
    "    print(\"It is a prime number\")"
   ]
  },
  {
   "cell_type": "code",
   "execution_count": 76,
   "id": "048c4529-d75a-41be-9ed4-6ef3e76f7e35",
   "metadata": {},
   "outputs": [
    {
     "name": "stdin",
     "output_type": "stream",
     "text": [
      "Enter the number: 58\n"
     ]
    },
    {
     "name": "stdout",
     "output_type": "stream",
     "text": [
      "it is a not a prime number\n"
     ]
    }
   ],
   "source": [
    "\n",
    "n = int(input(\"Enter the number:\"))\n",
    "if n <= 1:\n",
    "    print(\"It is not a prime number\") \n",
    "elif n == 2:\n",
    "    print(\"It is a prime number\")\n",
    "elif n%2 == 0:\n",
    "    print(\"it is a not a prime number\")\n",
    " \n",
    "else:\n",
    "    print(\"It is a prime number\")"
   ]
  },
  {
   "cell_type": "code",
   "execution_count": null,
   "id": "05f13e26-be12-4e22-b183-6b83d70a4bdb",
   "metadata": {},
   "outputs": [],
   "source": []
  }
 ],
 "metadata": {
  "kernelspec": {
   "display_name": "Python 3 (ipykernel)",
   "language": "python",
   "name": "python3"
  },
  "language_info": {
   "codemirror_mode": {
    "name": "ipython",
    "version": 3
   },
   "file_extension": ".py",
   "mimetype": "text/x-python",
   "name": "python",
   "nbconvert_exporter": "python",
   "pygments_lexer": "ipython3",
   "version": "3.12.3"
  }
 },
 "nbformat": 4,
 "nbformat_minor": 5
}
